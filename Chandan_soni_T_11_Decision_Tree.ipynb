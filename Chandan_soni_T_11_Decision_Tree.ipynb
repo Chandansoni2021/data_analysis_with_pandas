{
  "cells": [
    {
      "cell_type": "markdown",
      "id": "ed0755a1",
      "metadata": {
        "id": "ed0755a1"
      },
      "source": [
        "importing the modules"
      ]
    },
    {
      "cell_type": "code",
      "source": [],
      "metadata": {
        "id": "LQJei0og0NUQ"
      },
      "id": "LQJei0og0NUQ",
      "execution_count": null,
      "outputs": []
    },
    {
      "cell_type": "markdown",
      "source": [
        "Name- Chandan Soni\n",
        "--\n",
        "Sec - T\n",
        "--\n",
        "Roll No.-11\n",
        "--\n",
        "Uni Roll No. - 2115500039\n",
        "--"
      ],
      "metadata": {
        "id": "yBXTGcrU0N4k"
      },
      "id": "yBXTGcrU0N4k"
    },
    {
      "cell_type": "code",
      "execution_count": null,
      "id": "03ab6f13",
      "metadata": {
        "id": "03ab6f13"
      },
      "outputs": [],
      "source": [
        "import numpy as np \n",
        "import pandas as pd\n",
        "import matplotlib.pyplot as plt"
      ]
    },
    {
      "cell_type": "markdown",
      "id": "d6126aa5",
      "metadata": {
        "id": "d6126aa5"
      },
      "source": [
        "Reading the dataset"
      ]
    },
    {
      "cell_type": "code",
      "execution_count": null,
      "id": "9b4b6131",
      "metadata": {
        "id": "9b4b6131"
      },
      "outputs": [],
      "source": [
        "iris = pd.read_csv(\"Iris.csv\")"
      ]
    },
    {
      "cell_type": "markdown",
      "id": "f2e4277e",
      "metadata": {
        "id": "f2e4277e"
      },
      "source": [
        "Reading the first few line of the data using head()"
      ]
    },
    {
      "cell_type": "code",
      "execution_count": null,
      "id": "7428ada5",
      "metadata": {
        "id": "7428ada5",
        "outputId": "9412c852-0f1d-40c8-c4b4-8d359a35bb97"
      },
      "outputs": [
        {
          "data": {
            "text/html": [
              "<div>\n",
              "<style scoped>\n",
              "    .dataframe tbody tr th:only-of-type {\n",
              "        vertical-align: middle;\n",
              "    }\n",
              "\n",
              "    .dataframe tbody tr th {\n",
              "        vertical-align: top;\n",
              "    }\n",
              "\n",
              "    .dataframe thead th {\n",
              "        text-align: right;\n",
              "    }\n",
              "</style>\n",
              "<table border=\"1\" class=\"dataframe\">\n",
              "  <thead>\n",
              "    <tr style=\"text-align: right;\">\n",
              "      <th></th>\n",
              "      <th>Id</th>\n",
              "      <th>SepalLengthCm</th>\n",
              "      <th>SepalWidthCm</th>\n",
              "      <th>PetalLengthCm</th>\n",
              "      <th>PetalWidthCm</th>\n",
              "      <th>Species</th>\n",
              "    </tr>\n",
              "  </thead>\n",
              "  <tbody>\n",
              "    <tr>\n",
              "      <th>0</th>\n",
              "      <td>1</td>\n",
              "      <td>5.1</td>\n",
              "      <td>3.5</td>\n",
              "      <td>1.4</td>\n",
              "      <td>0.2</td>\n",
              "      <td>Iris-setosa</td>\n",
              "    </tr>\n",
              "    <tr>\n",
              "      <th>1</th>\n",
              "      <td>2</td>\n",
              "      <td>4.9</td>\n",
              "      <td>3.0</td>\n",
              "      <td>1.4</td>\n",
              "      <td>0.2</td>\n",
              "      <td>Iris-setosa</td>\n",
              "    </tr>\n",
              "    <tr>\n",
              "      <th>2</th>\n",
              "      <td>3</td>\n",
              "      <td>4.7</td>\n",
              "      <td>3.2</td>\n",
              "      <td>1.3</td>\n",
              "      <td>0.2</td>\n",
              "      <td>Iris-setosa</td>\n",
              "    </tr>\n",
              "    <tr>\n",
              "      <th>3</th>\n",
              "      <td>4</td>\n",
              "      <td>4.6</td>\n",
              "      <td>3.1</td>\n",
              "      <td>1.5</td>\n",
              "      <td>0.2</td>\n",
              "      <td>Iris-setosa</td>\n",
              "    </tr>\n",
              "    <tr>\n",
              "      <th>4</th>\n",
              "      <td>5</td>\n",
              "      <td>5.0</td>\n",
              "      <td>3.6</td>\n",
              "      <td>1.4</td>\n",
              "      <td>0.2</td>\n",
              "      <td>Iris-setosa</td>\n",
              "    </tr>\n",
              "  </tbody>\n",
              "</table>\n",
              "</div>"
            ],
            "text/plain": [
              "   Id  SepalLengthCm  SepalWidthCm  PetalLengthCm  PetalWidthCm      Species\n",
              "0   1            5.1           3.5            1.4           0.2  Iris-setosa\n",
              "1   2            4.9           3.0            1.4           0.2  Iris-setosa\n",
              "2   3            4.7           3.2            1.3           0.2  Iris-setosa\n",
              "3   4            4.6           3.1            1.5           0.2  Iris-setosa\n",
              "4   5            5.0           3.6            1.4           0.2  Iris-setosa"
            ]
          },
          "execution_count": 35,
          "metadata": {},
          "output_type": "execute_result"
        }
      ],
      "source": [
        "iris.head()"
      ]
    },
    {
      "cell_type": "markdown",
      "id": "09a657b9",
      "metadata": {
        "id": "09a657b9"
      },
      "source": [
        "drawing the histogram of the SepalLenght parameter of the dataset using the hist() method."
      ]
    },
    {
      "cell_type": "code",
      "execution_count": null,
      "id": "07ebbba5",
      "metadata": {
        "id": "07ebbba5",
        "outputId": "e81af84e-d3d1-4000-ed50-748974bece2a"
      },
      "outputs": [
        {
          "data": {
            "image/png": "[encoded data removed]",
            "text/plain": [
              "<Figure size 504x504 with 1 Axes>"
            ]
          },
          "metadata": {
            "needs_background": "light"
          },
          "output_type": "display_data"
        }
      ],
      "source": [
        "plt.figure(figsize = (7,7))\n",
        "plt.hist(iris['SepalLengthCm'])\n",
        "plt.title('Distribution of Sepal Length')\n",
        "plt.xlabel('Sepal Length')\n",
        "plt.show()"
      ]
    },
    {
      "cell_type": "markdown",
      "id": "7fc950bd",
      "metadata": {
        "id": "7fc950bd"
      },
      "source": [
        "drawing the histogram of the PetalLenght parameter of the dataset using the hist() method."
      ]
    },
    {
      "cell_type": "code",
      "execution_count": null,
      "id": "43236976",
      "metadata": {
        "id": "43236976",
        "outputId": "c71b46e2-0e65-436d-9727-e75ae20dd221"
      },
      "outputs": [
        {
          "data": {
            "image/png": "[encoded data removed]",
            "text/plain": [
              "<Figure size 504x504 with 1 Axes>"
            ]
          },
          "metadata": {
            "needs_background": "light"
          },
          "output_type": "display_data"
        }
      ],
      "source": [
        "plt.figure(figsize = (7,7))\n",
        "plt.hist(iris['PetalLengthCm'],color = 'green')\n",
        "plt.title('Distribution of Petal Length')\n",
        "plt.xlabel('Sepal Length')\n",
        "plt.show()"
      ]
    },
    {
      "cell_type": "markdown",
      "id": "328e58c1",
      "metadata": {
        "id": "328e58c1"
      },
      "source": [
        "drawing the histogram of the SepalWidth parameter of the dataset using the hist() method."
      ]
    },
    {
      "cell_type": "code",
      "execution_count": null,
      "id": "c6048937",
      "metadata": {
        "id": "c6048937",
        "outputId": "a21ba270-0cc0-428a-f42e-bb0187c1ddf2"
      },
      "outputs": [
        {
          "data": {
            "image/png": "[encoded data removed]",
            "text/plain": [
              "<Figure size 504x504 with 1 Axes>"
            ]
          },
          "metadata": {
            "needs_background": "light"
          },
          "output_type": "display_data"
        }
      ],
      "source": [
        "plt.figure(figsize = (7,7))\n",
        "plt.hist(iris['SepalWidthCm'])\n",
        "plt.title('Distribution of Sepal Width')\n",
        "plt.xlabel('Sepal Widht')\n",
        "plt.show()"
      ]
    },
    {
      "cell_type": "markdown",
      "id": "715c4cfe",
      "metadata": {
        "id": "715c4cfe"
      },
      "source": [
        "drawing the histogram of the PetalWidth parameter of the dataset using the hist() method."
      ]
    },
    {
      "cell_type": "code",
      "execution_count": null,
      "id": "fa8c708b",
      "metadata": {
        "id": "fa8c708b",
        "outputId": "ae8be2eb-698f-425b-93bc-df47d1c6d3ab"
      },
      "outputs": [
        {
          "data": {
            "image/png": "[encoded data removed]",
            "text/plain": [
              "<Figure size 504x504 with 1 Axes>"
            ]
          },
          "metadata": {
            "needs_background": "light"
          },
          "output_type": "display_data"
        }
      ],
      "source": [
        "plt.figure(figsize = (7,7))\n",
        "plt.hist(iris['PetalWidthCm'])\n",
        "plt.title('Distribution of Petal Width')\n",
        "plt.xlabel('Petal Width')\n",
        "plt.show()"
      ]
    },
    {
      "cell_type": "code",
      "execution_count": null,
      "id": "23a44685",
      "metadata": {
        "id": "23a44685"
      },
      "outputs": [],
      "source": [
        "x = iris[['SepalLengthCm','PetalLengthCm']]\n",
        "y = iris[['Species']]"
      ]
    },
    {
      "cell_type": "markdown",
      "id": "66dfc7d8",
      "metadata": {
        "id": "66dfc7d8"
      },
      "source": [
        "importing the train_test_split() from sklearn"
      ]
    },
    {
      "cell_type": "code",
      "execution_count": null,
      "id": "247f4471",
      "metadata": {
        "id": "247f4471"
      },
      "outputs": [],
      "source": [
        "from sklearn.model_selection import train_test_split"
      ]
    },
    {
      "cell_type": "markdown",
      "id": "0363eebe",
      "metadata": {
        "id": "0363eebe"
      },
      "source": [
        "splitting the data set into the training data and the testing dataset."
      ]
    },
    {
      "cell_type": "code",
      "execution_count": null,
      "id": "b7972f9b",
      "metadata": {
        "id": "b7972f9b"
      },
      "outputs": [],
      "source": [
        "x_train,x_test,y_train,y_test = train_test_split(x,y,test_size = 0.3)"
      ]
    },
    {
      "cell_type": "markdown",
      "id": "b0d82acb",
      "metadata": {
        "id": "b0d82acb"
      },
      "source": [
        "importing DecisionTreClassifier from the sklearn library"
      ]
    },
    {
      "cell_type": "code",
      "execution_count": null,
      "id": "7c219462",
      "metadata": {
        "id": "7c219462"
      },
      "outputs": [],
      "source": [
        "from sklearn.tree import DecisionTreeClassifier"
      ]
    },
    {
      "cell_type": "code",
      "execution_count": null,
      "id": "b3dded93",
      "metadata": {
        "id": "b3dded93"
      },
      "outputs": [],
      "source": [
        "dtc = DecisionTreeClassifier()"
      ]
    },
    {
      "cell_type": "markdown",
      "id": "73903b84",
      "metadata": {
        "id": "73903b84"
      },
      "source": [
        "fitting our ml model using fit function"
      ]
    },
    {
      "cell_type": "code",
      "execution_count": null,
      "id": "519a5a88",
      "metadata": {
        "id": "519a5a88",
        "outputId": "2ff7e575-a336-4c76-98a6-4f6663cbe6fd"
      },
      "outputs": [
        {
          "data": {
            "text/plain": [
              "DecisionTreeClassifier()"
            ]
          },
          "execution_count": 45,
          "metadata": {},
          "output_type": "execute_result"
        }
      ],
      "source": [
        "dtc.fit(x_train,y_train)"
      ]
    },
    {
      "cell_type": "code",
      "execution_count": null,
      "id": "5734a110",
      "metadata": {
        "id": "5734a110"
      },
      "outputs": [],
      "source": [
        "y_pred = dtc.predict(x_test)"
      ]
    },
    {
      "cell_type": "code",
      "execution_count": null,
      "id": "b98d4275",
      "metadata": {
        "id": "b98d4275"
      },
      "outputs": [],
      "source": [
        "from sklearn.metrics import confusion_matrix"
      ]
    },
    {
      "cell_type": "markdown",
      "id": "6610541b",
      "metadata": {
        "id": "6610541b"
      },
      "source": [
        "creating the confusion matrix"
      ]
    },
    {
      "cell_type": "code",
      "execution_count": null,
      "id": "ed74a8f8",
      "metadata": {
        "id": "ed74a8f8",
        "outputId": "7e41524a-1619-4a48-b70d-593e578e6ca3"
      },
      "outputs": [
        {
          "data": {
            "text/plain": [
              "array([[13,  0,  0],\n",
              "       [ 0, 16,  0],\n",
              "       [ 0,  2, 14]], dtype=int64)"
            ]
          },
          "execution_count": 48,
          "metadata": {},
          "output_type": "execute_result"
        }
      ],
      "source": [
        "mat = confusion_matrix(y_test,y_pred)\n",
        "mat"
      ]
    },
    {
      "cell_type": "markdown",
      "id": "1f16b331",
      "metadata": {
        "id": "1f16b331"
      },
      "source": [
        "Calculation of accuracy of the result predicted by our ml model."
      ]
    },
    {
      "cell_type": "code",
      "execution_count": null,
      "id": "55bd0cb8",
      "metadata": {
        "id": "55bd0cb8",
        "outputId": "e6bac860-ea07-49af-8405-6fdfc1a0165d"
      },
      "outputs": [
        {
          "name": "stdout",
          "output_type": "stream",
          "text": [
            "0.9555555555555556\n"
          ]
        }
      ],
      "source": [
        "acc = (mat[0][0]+mat[1][1]+mat[2][2])/(mat[0][0]+mat[0][1]+mat[0][2]+mat[1][0]+mat[1][1]+mat[1][2]+mat[2][0]+mat[2][1]+mat[2][2])\n",
        "print(acc)"
      ]
    }
  ],
  "metadata": {
    "kernelspec": {
      "display_name": "Python 3 (ipykernel)",
      "language": "python",
      "name": "python3"
    },
    "language_info": {
      "codemirror_mode": {
        "name": "ipython",
        "version": 3
      },
      "file_extension": ".py",
      "mimetype": "text/x-python",
      "name": "python",
      "nbconvert_exporter": "python",
      "pygments_lexer": "ipython3",
      "version": "3.9.7"
    },
    "colab": {
      "provenance": []
    }
  },
  "nbformat": 4,
  "nbformat_minor": 5
}